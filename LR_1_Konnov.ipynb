{
  "nbformat": 4,
  "nbformat_minor": 0,
  "metadata": {
    "colab": {
      "provenance": [],
      "collapsed_sections": [
        "Q-qzkF5KUo1_",
        "SL3N4GBBY_B-"
      ],
      "authorship_tag": "ABX9TyPRGTh7x6D14PD8QCSSlacn",
      "include_colab_link": true
    },
    "kernelspec": {
      "name": "python3",
      "display_name": "Python 3"
    },
    "language_info": {
      "name": "python"
    }
  },
  "cells": [
    {
      "cell_type": "markdown",
      "metadata": {
        "id": "view-in-github",
        "colab_type": "text"
      },
      "source": [
        "<a href=\"https://colab.research.google.com/github/kirilllL2/PopIT.FoodOrder/blob/master/LR_1_Konnov.ipynb\" target=\"_parent\"><img src=\"https://colab.research.google.com/assets/colab-badge.svg\" alt=\"Open In Colab\"/></a>"
      ]
    },
    {
      "cell_type": "markdown",
      "source": [
        "⚡ Коннов Кирилл. Группа 6313-020302D. Лабораторная работа №1⚡"
      ],
      "metadata": {
        "id": "zGzxe3XyPU1h"
      }
    },
    {
      "cell_type": "markdown",
      "source": [
        "# Конфигурация"
      ],
      "metadata": {
        "id": "ODp_zX2-UPn-"
      }
    },
    {
      "cell_type": "markdown",
      "source": [
        "## Используемые библиотеки"
      ],
      "metadata": {
        "id": "Q-qzkF5KUo1_"
      }
    },
    {
      "cell_type": "code",
      "source": [
        "import math\n",
        "import random\n",
        "import numpy as np\n",
        "import matplotlib.pyplot as plt\n",
        "\n",
        "from typing import Optional"
      ],
      "metadata": {
        "id": "JWUN9598Us1V"
      },
      "execution_count": 145,
      "outputs": []
    },
    {
      "cell_type": "markdown",
      "source": [
        "## Конфиг"
      ],
      "metadata": {
        "id": "rfys5Ky5Uv9E"
      }
    },
    {
      "cell_type": "markdown",
      "source": [
        "### TODO: \n",
        "\n",
        "- def function\n",
        "- def function_str\n",
        "- FUNCTION_INPUTS (кол-во переменных)"
      ],
      "metadata": {
        "id": "y1QdMA0Hat7I"
      }
    },
    {
      "cell_type": "code",
      "source": [
        "FUNCTION_INPUTS = 8                                                             # Количество переменных в функции\n",
        "FUNCTION_OUTPUTS = 1                                                            # Количество выходных данных\n",
        "\n",
        "CONST_TEST_COEFFICIENT = 0.8                                                    # коэффициент обучающих случаев\n",
        "CONST_ETA = 0.75                                                                # коэффициент обучения\n",
        "CONST_MAX_WEIGHT: float = 5                                                     # максимум случайного веса\n",
        "CONST_BIAS_NEURON = 1                                                           # вес биаса, назначаемый в начале обучения\n",
        "CONST_GENERATIONS = 20                                                          # количество эпох обучения нейросети\n",
        "CONST_MAX_FUNCTIONS = int(math.pow(2, FUNCTION_INPUTS))                         # количество всех случаев\n",
        "CONST_IMAGES_TRAIN = int(CONST_TEST_COEFFICIENT * CONST_MAX_FUNCTIONS)          # количество обучающих случаев\n",
        "CONST_IMAGES_TEST = CONST_MAX_FUNCTIONS - CONST_IMAGES_TRAIN                    # количество тестирующихся случаев\n",
        "\n",
        "TRAIN_FILE_NAME = 'data/training_data.txt'                                      # Названия файла с обучающей выборкой\n",
        "TEST_FILE_NAME = 'data/test_data.txt'                                           # Название файла с тестирующей выборкой\n",
        "NETWORK_FILE = 'Perceptron/network.txt'                                         # Названия файла для сохранения информации об обученном персептроне\n",
        "\n",
        "def function(i: np.ndarray):                                                    \n",
        "    return int((((i[0] or i[4]) and i[5]) or (i[1] or i[2] or i[7]) and (i[3] or i[5])) and (i[6] or i[4] and i[1] or i[7]))\n",
        "\n",
        "def function_str():                                                               \n",
        "    return '(((a or e) and f) or (b or c or h) and (d or f)) and (g or e and b or h)'"
      ],
      "metadata": {
        "id": "Af016WPLUWZz"
      },
      "execution_count": 146,
      "outputs": []
    },
    {
      "cell_type": "markdown",
      "source": [
        "# Генерация данных для обучения и тестирования"
      ],
      "metadata": {
        "id": "dTFE-KohXK0s"
      }
    },
    {
      "cell_type": "markdown",
      "source": [
        "**Тестовые** данные кладутся в файл `data/test_data.txt`\n",
        "\n",
        "Данные для **обучения** кладутся в файл `data/training_data.txt`"
      ],
      "metadata": {
        "id": "qkZ7nthLXTwP"
      }
    },
    {
      "cell_type": "code",
      "source": [
        "inputs = []\n",
        "with open(TRAIN_FILE_NAME, 'w') as tr, open(TEST_FILE_NAME, 'w') as tst:\n",
        "    for i in range(CONST_MAX_FUNCTIONS):\n",
        "        inputs.append(' '.join((f\"{i:{FUNCTION_INPUTS}b}\".replace(' ', '0'))))\n",
        "    random.shuffle(inputs)\n",
        "\n",
        "    for _ in range(CONST_IMAGES_TRAIN - 1):\n",
        "        tr.write(f\"{inputs.pop()}\\n\")\n",
        "    tr.write(f\"{inputs.pop()}\")\n",
        "    for _ in range(CONST_IMAGES_TEST - 1):\n",
        "        tst.write(f\"{inputs.pop()}\\n\")\n",
        "    tst.write(f\"{inputs.pop()}\")"
      ],
      "metadata": {
        "id": "UfLgTXO2WlBm"
      },
      "execution_count": 147,
      "outputs": []
    },
    {
      "cell_type": "markdown",
      "source": [
        "# Исходники"
      ],
      "metadata": {
        "id": "SL3N4GBBY_B-"
      }
    },
    {
      "cell_type": "code",
      "source": [
        "# Данные о персептроне\n",
        "class TPerceptron:\n",
        "    def __init__(self):\n",
        "        self.n_inp: Optional[int] = FUNCTION_INPUTS\n",
        "        self.n_out: Optional[int] = FUNCTION_OUTPUTS\n",
        "        self.w = np.empty((FUNCTION_INPUTS + 1, FUNCTION_OUTPUTS), dtype=float)\n",
        "        self.inp = np.empty(FUNCTION_INPUTS, dtype=int)\n",
        "        self.out = np.empty(FUNCTION_OUTPUTS, dtype=float)\n",
        "\n",
        "# Входные данные с ответом\n",
        "class TBaseRecord:\n",
        "    def __init__(self):\n",
        "        self.X = np.empty(FUNCTION_INPUTS, dtype=float)\n",
        "        self.Y = np.empty(FUNCTION_OUTPUTS, dtype=float)\n",
        "\n",
        "# Набор тестирующих данных\n",
        "class TBase:\n",
        "    def __init__(self):\n",
        "        self.images = [TBaseRecord() for _ in range(CONST_IMAGES_TRAIN)]\n",
        "\n",
        "# Персептрон\n",
        "class Perceptron:\n",
        "    net = TPerceptron()\n",
        "    tbase = TBase()\n",
        "    error: Optional[float] = None\n",
        "    temp: Optional[float] = None\n",
        "    delta: Optional[float] = None\n",
        "    correct: Optional[float] = None\n",
        "\n",
        "    def init_all(self):\n",
        "        for i in range(self.net.n_inp + 1):\n",
        "            for j in range(self.net.n_out):\n",
        "                self.net.w[i, j] = CONST_MAX_WEIGHT * random.random()\n",
        "\n",
        "    def get_data_base(self):\n",
        "        with open(TRAIN_FILE_NAME, 'r') as f:\n",
        "            train_inputs = [[int(x) for x in lst.rstrip().split()] for lst in f.readlines()]\n",
        "            for i in range(CONST_IMAGES_TRAIN):\n",
        "                for j in range(self.net.n_inp):\n",
        "                    self.tbase.images[i].X[j] = train_inputs[i][j]\n",
        "                self.tbase.images[i].Y[0] = function(self.tbase.images[i].X)\n",
        "\n",
        "    def save_net(self):\n",
        "        with open(NETWORK_FILE, 'w') as data:\n",
        "            data.write('Количество входных данных: ' + str(self.net.n_inp))\n",
        "            data.write('\\nКоличество выходных данных: ' + str(self.net.n_out))\n",
        "            for i in range(self.net.n_inp + 1):\n",
        "                res = ''\n",
        "                for j in range(self.net.n_out):\n",
        "                    res += \"{0:.7f}\".format(self.net.w[i, j]) + '   '\n",
        "                if i == 0:\n",
        "                    data.write(f'\\nВес биаса: {res}')\n",
        "                else:\n",
        "                    data.write(f'\\nВес {i} нейрона: {res}')\n",
        "\n",
        "    @staticmethod\n",
        "    def sigmoid(z: float) -> float:\n",
        "        return 1 / (1 + math.exp(-z))"
      ],
      "metadata": {
        "id": "gNngwvqPZCfW"
      },
      "execution_count": 148,
      "outputs": []
    },
    {
      "cell_type": "markdown",
      "source": [
        "# Программа"
      ],
      "metadata": {
        "id": "tT5JuvZgbZWE"
      }
    },
    {
      "cell_type": "markdown",
      "source": [
        "## Обучение персептрона"
      ],
      "metadata": {
        "id": "zmpnavgIjpcE"
      }
    },
    {
      "cell_type": "code",
      "source": [
        "perc = Perceptron()\n",
        "perc.init_all()\n",
        "perc.get_data_base()\n",
        "\n",
        "with open(TEST_FILE_NAME, 'r') as f:\n",
        "    test_inputs = [[int(x) for x in lst.rstrip().split()] for lst in f.readlines()]\n",
        "\n",
        "train_accuracy_list = []\n",
        "test_accuracy_list = []\n",
        "for gen in range(1, CONST_GENERATIONS + 1):\n",
        "    # цикл по обучающей выборке\n",
        "    correct_train_answers = 0\n",
        "    for i in range(CONST_IMAGES_TRAIN):\n",
        "        # передача очередного образа на входы сети\n",
        "        for j in range(perc.net.n_inp):\n",
        "            perc.net.inp[j] = perc.tbase.images[i].X[j]\n",
        "        for k in range(perc.net.n_out):\n",
        "            # состояние очередного нейрона\n",
        "            temp = CONST_BIAS_NEURON * perc.net.w[0, k]\n",
        "            for j in range(1, perc.net.n_inp + 1):\n",
        "                temp += perc.net.inp[j - 1] * perc.net.w[j, k]\n",
        "            perc.net.out[k] = perc.sigmoid(temp)\n",
        "            # накопление ошибки\n",
        "            perc.delta = perc.tbase.images[i].Y[k] - perc.net.out[k]\n",
        "            if perc.delta < 0.5:\n",
        "                correct_train_answers += 1\n",
        "            # обучение по дельта-правилу Розенблатта\n",
        "            perc.net.w[0, k] += CONST_ETA * CONST_BIAS_NEURON * perc.delta\n",
        "            for j in range(1, perc.net.n_inp + 1):\n",
        "                perc.net.w[j, k] += CONST_ETA * perc.net.inp[j - 1] * perc.delta\n",
        "    train_accuracy_list.append(correct_train_answers/CONST_IMAGES_TRAIN)\n",
        "\n",
        "    correct_test_answers = 0\n",
        "    for i in range(CONST_IMAGES_TEST):\n",
        "        perc.net.inp = test_inputs[i]\n",
        "        correct = function(perc.net.inp)\n",
        "        # ответ выдает нейросеть\n",
        "        for t in range(perc.net.n_out):\n",
        "            temp = CONST_BIAS_NEURON * perc.net.w[0, t]\n",
        "            for j in range(1, perc.net.n_inp + 1):\n",
        "                temp += perc.net.inp[j - 1] * perc.net.w[j, t]\n",
        "            perc.net.out[t] = perc.sigmoid(temp)\n",
        "        if abs(correct - perc.net.out[t]) < 0.5:\n",
        "            correct_test_answers += 1\n",
        "    test_accuracy_list.append(correct_test_answers/CONST_IMAGES_TEST)\n",
        "\n",
        "perc.save_net()"
      ],
      "metadata": {
        "id": "uzs8YshlbYjY"
      },
      "execution_count": 149,
      "outputs": []
    },
    {
      "cell_type": "markdown",
      "source": [
        "## Вывод результатов"
      ],
      "metadata": {
        "id": "POnl1f2ujs8z"
      }
    },
    {
      "cell_type": "code",
      "source": [
        "print(f'Функция: {function_str()}')\n",
        "print(f'Выполняется {CONST_IMAGES_TRAIN} операции на обучение')\n",
        "print(f'Выполняется {CONST_IMAGES_TEST} операции на тестирование')\n",
        "print(f'Количество эпох: {CONST_GENERATIONS}')"
      ],
      "metadata": {
        "colab": {
          "base_uri": "https://localhost:8080/"
        },
        "id": "PM9ir325i5L-",
        "outputId": "2dd63be2-4623-48b4-dda5-0a535ba4d373"
      },
      "execution_count": 150,
      "outputs": [
        {
          "output_type": "stream",
          "name": "stdout",
          "text": [
            "Функция: (((a or e) and f) or (b or c or h) and (d or f)) and (g or e and b or h)\n",
            "Выполняется 204 операции на обучение\n",
            "Выполняется 52 операции на тестирование\n",
            "Количество эпох: 20\n"
          ]
        }
      ]
    },
    {
      "cell_type": "code",
      "source": [
        "plt.plot(range(1, CONST_GENERATIONS + 1), train_accuracy_list, 'r')\n",
        "plt.plot(range(1, CONST_GENERATIONS + 1), test_accuracy_list, 'b')\n",
        "plt.axis([1, CONST_GENERATIONS, min(train_accuracy_list + test_accuracy_list), 1])\n",
        "plt.ylabel = 'Корректность'\n",
        "plt.xlabel = 'Эпоха'\n",
        "plt.legend(['Обучение', 'Тест'], loc=2)\n",
        "plt.show()"
      ],
      "metadata": {
        "colab": {
          "base_uri": "https://localhost:8080/",
          "height": 269
        },
        "id": "mL9_M9LTiqwv",
        "outputId": "9dbbe82c-66d2-4870-aa63-bc9a8724b4a5"
      },
      "execution_count": 151,
      "outputs": [
        {
          "output_type": "display_data",
          "data": {
            "text/plain": [
              "<Figure size 432x288 with 1 Axes>"
            ],
            "image/png": "[encoded data removed]"
          },
          "metadata": {
            "needs_background": "light"
          }
        }
      ]
    },
    {
      "cell_type": "code",
      "source": [
        "print('ВОПРОС               ВЕРНЫЙ ОТВЕТ       ОТВЕТ')\n",
        "\n",
        "for i in range(CONST_IMAGES_TEST):\n",
        "    for j in range(perc.net.n_inp):\n",
        "        perc.net.inp[j] = test_inputs[i][j]\n",
        "    correct = function(perc.net.inp)\n",
        "    # ответ выдает нейросеть\n",
        "    for t in range(perc.net.n_out):\n",
        "        temp = CONST_BIAS_NEURON * perc.net.w[0, t]\n",
        "        for j in range(1, perc.net.n_inp + 1):\n",
        "            temp += perc.net.inp[j - 1] * perc.net.w[j, t]\n",
        "        perc.net.out[t] = perc.sigmoid(temp)\n",
        "    # выдача результатов\n",
        "    inputs = ' '.join(str(x) for x in list(perc.net.inp))\n",
        "    print(f'{inputs}        {correct}                  {perc.net.out[0]:.7f}')"
      ],
      "metadata": {
        "colab": {
          "base_uri": "https://localhost:8080/"
        },
        "id": "NlxTir6Lgbi7",
        "outputId": "813fc0da-0240-4707-cba2-a1af87ca4dbb"
      },
      "execution_count": 152,
      "outputs": [
        {
          "output_type": "stream",
          "name": "stdout",
          "text": [
            "ВОПРОС               ВЕРНЫЙ ОТВЕТ       ОТВЕТ\n",
            "0 1 1 0 0 1 0 0        0                  0.1419460\n",
            "1 0 1 1 1 1 1 0        1                  0.9996487\n",
            "0 1 0 1 1 1 1 1        1                  0.9999999\n",
            "1 0 1 0 0 0 0 0        0                  0.0000259\n",
            "1 0 0 1 0 1 0 0        0                  0.7560427\n",
            "1 1 1 0 0 0 0 1        0                  0.0202078\n",
            "0 1 0 0 0 1 1 0        1                  0.8781988\n",
            "1 0 0 0 1 0 0 1        0                  0.0645646\n",
            "0 1 1 0 1 0 0 1        0                  0.6310227\n",
            "1 0 0 1 0 1 1 1        1                  0.9999561\n",
            "0 1 1 0 0 0 1 1        0                  0.8145147\n",
            "1 0 0 1 1 1 1 0        1                  0.9996225\n",
            "1 1 0 0 1 1 1 0        1                  0.9665914\n",
            "0 0 0 1 1 0 0 0        0                  0.4813144\n",
            "0 1 0 1 0 0 0 1        1                  0.9759017\n",
            "0 1 1 0 1 0 1 1        0                  0.9876698\n",
            "0 1 0 0 1 1 1 0        1                  0.9924540\n",
            "1 0 1 1 0 0 0 0        0                  0.0118833\n",
            "0 0 0 0 0 0 1 0        0                  0.0051069\n",
            "0 1 1 0 0 1 1 0        1                  0.8856916\n",
            "1 1 0 1 1 1 0 1        1                  0.9999778\n",
            "0 1 1 0 0 0 0 1        0                  0.0857183\n",
            "1 0 0 1 0 0 0 1        1                  0.6372048\n",
            "0 1 0 1 0 1 0 1        1                  0.9999108\n",
            "1 1 0 1 1 1 1 0        1                  0.9999255\n",
            "0 0 0 1 1 0 1 0        0                  0.9775094\n",
            "0 0 0 1 1 1 0 0        0                  0.9961237\n",
            "1 0 1 0 1 1 0 1        1                  0.9535759\n",
            "0 0 1 0 0 1 0 0        0                  0.0315847\n",
            "0 0 0 1 1 1 1 1        1                  0.9999995\n",
            "1 1 0 1 1 0 1 1        1                  0.9998686\n",
            "0 1 1 0 1 0 1 0        0                  0.3379122\n",
            "1 1 0 0 0 1 1 0        1                  0.6133186\n",
            "0 1 1 0 1 0 0 0        0                  0.0107792\n",
            "0 1 1 1 1 1 0 0        1                  0.9992866\n",
            "0 1 1 1 0 0 0 0        0                  0.2170905\n",
            "1 0 1 0 0 1 0 1        1                  0.5296455\n",
            "1 0 1 0 0 0 1 0        0                  0.0012120\n",
            "0 0 0 0 0 0 0 0        0                  0.0001096\n",
            "1 0 1 1 0 0 1 1        1                  0.9888149\n",
            "1 1 1 0 0 1 0 0        0                  0.0351137\n",
            "1 0 0 1 1 0 0 0        0                  0.1695279\n",
            "1 0 1 1 0 1 1 0        1                  0.9936301\n",
            "0 1 0 1 1 0 1 0        1                  0.9954843\n",
            "1 0 1 0 0 1 0 0        0                  0.0071236\n",
            "1 0 0 1 1 0 1 0        0                  0.9053138\n",
            "1 1 0 1 1 1 0 0        1                  0.9965246\n",
            "0 1 0 0 1 0 1 1        0                  0.9867616\n",
            "1 1 0 1 0 1 1 1        1                  0.9999913\n",
            "1 1 1 1 1 0 0 1        1                  0.9943063\n",
            "1 1 1 1 1 0 1 1        1                  0.9998778\n",
            "1 1 1 1 1 0 1 1        1                  0.9998778\n"
          ]
        }
      ]
    }
  ]
}